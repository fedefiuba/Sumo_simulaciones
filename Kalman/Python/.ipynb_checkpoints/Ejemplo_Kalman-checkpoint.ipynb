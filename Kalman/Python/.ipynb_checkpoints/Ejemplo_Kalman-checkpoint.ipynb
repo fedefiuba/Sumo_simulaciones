{
 "cells": [
  {
   "cell_type": "markdown",
   "metadata": {},
   "source": [
    "#### Ejemplo de Kalman con sistema Masa-Resorte-Amortiguador"
   ]
  },
  {
   "cell_type": "code",
   "execution_count": 1,
   "metadata": {},
   "outputs": [],
   "source": [
    "import numpy as np\n",
    "import matplotlib.pyplot as plt\n",
    "import control as co\n",
    "from filterpy.kalman import KalmanFilter \n",
    "from filterpy.common import Q_discrete_white_noise\n",
    "from numpy.linalg import inv"
   ]
  },
  {
   "cell_type": "markdown",
   "metadata": {},
   "source": [
    "#### Definición de Matrices"
   ]
  },
  {
   "cell_type": "code",
   "execution_count": 2,
   "metadata": {},
   "outputs": [],
   "source": [
    "A = [[0, 1], [-1, -0.5]]\n",
    "B = [[0], [10]]\n",
    "C = [1, 0]\n",
    "D = 0"
   ]
  },
  {
   "cell_type": "markdown",
   "metadata": {},
   "source": [
    "#### Creación del sistema de estados"
   ]
  },
  {
   "cell_type": "code",
   "execution_count": 3,
   "metadata": {},
   "outputs": [],
   "source": [
    "sys = co.ss(A, B, C, D)"
   ]
  },
  {
   "cell_type": "markdown",
   "metadata": {},
   "source": [
    "#### Respuesta al escalón"
   ]
  },
  {
   "cell_type": "code",
   "execution_count": 4,
   "metadata": {},
   "outputs": [],
   "source": [
    "t = np.linspace(0,20,1000)"
   ]
  },
  {
   "cell_type": "code",
   "execution_count": 5,
   "metadata": {},
   "outputs": [],
   "source": [
    "t1, y1 = co.step_response(sys,t)"
   ]
  },
  {
   "cell_type": "code",
   "execution_count": 6,
   "metadata": {},
   "outputs": [
    {
     "data": {
      "image/png": "[encoded data removed]",
      "text/plain": [
       "<Figure size 432x288 with 1 Axes>"
      ]
     },
     "metadata": {
      "needs_background": "light"
     },
     "output_type": "display_data"
    }
   ],
   "source": [
    "plt.plot(t1,y1)\n",
    "plt.xlabel('time (s)')\n",
    "plt.ylabel('Trayectoria (s)')\n",
    "plt.grid()"
   ]
  },
  {
   "cell_type": "markdown",
   "metadata": {},
   "source": [
    "### Kalman\n",
    "Se utiliza un filtro contemple la posición y la velocidad del móvil. Utiliza un sensor para leer la posición.\n",
    "\n"
   ]
  },
  {
   "cell_type": "code",
   "execution_count": 43,
   "metadata": {},
   "outputs": [],
   "source": [
    "tam_vec = 5\n",
    "x = [[0], [1]]\n",
    "#f.x = np.array([[2.],    # position\n",
    "#                [0.]])   # velocity\n",
    "#x = np.ones([2, tam_vec])\n"
   ]
  },
  {
   "cell_type": "code",
   "execution_count": 44,
   "metadata": {},
   "outputs": [],
   "source": [
    "u = np.ones([1, tam_vec])"
   ]
  },
  {
   "cell_type": "code",
   "execution_count": 45,
   "metadata": {},
   "outputs": [],
   "source": [
    "A = np.matrix([[0 ,1],\n",
    "                [-1, -0.5]]) # F"
   ]
  },
  {
   "cell_type": "code",
   "execution_count": 46,
   "metadata": {},
   "outputs": [],
   "source": [
    "B = np.matrix([[0 ],\n",
    "                [10]]) # F"
   ]
  },
  {
   "cell_type": "code",
   "execution_count": 47,
   "metadata": {},
   "outputs": [],
   "source": [
    "#f.C = np.array([[1.,0.]]) # H\n",
    "C = np.matrix([[1.,0.]]) # H"
   ]
  },
  {
   "cell_type": "code",
   "execution_count": 48,
   "metadata": {},
   "outputs": [],
   "source": [
    "P = np.matrix([[1,0],\n",
    "                [0, 1] ]) # Matriz de Covarianza, P"
   ]
  },
  {
   "cell_type": "code",
   "execution_count": 49,
   "metadata": {},
   "outputs": [],
   "source": [
    "R = 0.05 # R"
   ]
  },
  {
   "cell_type": "code",
   "execution_count": 50,
   "metadata": {},
   "outputs": [],
   "source": [
    "Q = np.matrix([[2.,0.],\n",
    "                [0., 2.] ]) # Matriz de Covarianza, P"
   ]
  },
  {
   "cell_type": "markdown",
   "metadata": {},
   "source": [
    "Con estas matrices se procede al loop de predicción/actualización"
   ]
  },
  {
   "cell_type": "code",
   "execution_count": 51,
   "metadata": {},
   "outputs": [],
   "source": [
    "#for i in range (2, len(t)):\n",
    "x = np.zeros([2, tam_vec])\n",
    "\n",
    "for i in range (2, tam_vec):\n",
    "\n",
    "#Predicción\n",
    "    xk = np.dot(A,x) + B*u[:,i-1] \n",
    "#    xkp = np.insert(xkp,i,[xk[0,0], xk[1,0]],axis=1)\n",
    "    \n",
    "    Pk = np.dot(np.dot(A,P),np.transpose(A)) + Q\n",
    "#    Pkp = np.insert(Pk,i,[Pk[0,0], Pk[1,0]],axis=1)\n",
    "    \n",
    "# Ganancia     \n",
    "    K =  np.dot(np.dot(Pk,np.transpose(C)),inv(np.dot(np.dot(C,Pk),np.transpose(C))+R))      #Ganancia de Kalman\n",
    "\n",
    "#Actulización\n",
    "    x1 = xkp + K * (y1[i]-np.dot(C,xkp))\n",
    "    x = np.insert(x,i,[x1[0,0], x1[1,0]],axis=1)\n",
    "#    x1 = np.insert(x,i,[x[0,0], x[1,0]],axis=1)\n",
    "\n"
   ]
  },
  {
   "cell_type": "code",
   "execution_count": 33,
   "metadata": {
    "scrolled": true
   },
   "outputs": [
    {
     "name": "stdout",
     "output_type": "stream",
     "text": [
      "[[ 0.          0.          0.00783121  0.01755886  0.03110512  0.\n",
      "   0.          0.        ]\n",
      " [ 0.          0.         -0.0013052  -0.00292648 -0.00518419  0.\n",
      "   0.          0.        ]]\n"
     ]
    }
   ],
   "source": [
    "print(x)"
   ]
  },
  {
   "cell_type": "code",
   "execution_count": 46,
   "metadata": {},
   "outputs": [
    {
     "data": {
      "text/plain": [
       "(2, 8)"
      ]
     },
     "execution_count": 46,
     "metadata": {},
     "output_type": "execute_result"
    }
   ],
   "source": [
    "x.shape"
   ]
  },
  {
   "cell_type": "code",
   "execution_count": 269,
   "metadata": {},
   "outputs": [
    {
     "data": {
      "text/plain": [
       "(1000,)"
      ]
     },
     "execution_count": 269,
     "metadata": {},
     "output_type": "execute_result"
    }
   ],
   "source": [
    "#t1.shape\n",
    "f.x[0,:].shape\n",
    "#print(t1)\n"
   ]
  },
  {
   "cell_type": "code",
   "execution_count": 270,
   "metadata": {},
   "outputs": [
    {
     "data": {
      "text/plain": [
       "[<matplotlib.lines.Line2D at 0x7f939b726d60>]"
      ]
     },
     "execution_count": 270,
     "metadata": {},
     "output_type": "execute_result"
    },
    {
     "data": {
      "image/png": "[encoded data removed]",
      "text/plain": [
       "<Figure size 432x288 with 1 Axes>"
      ]
     },
     "metadata": {
      "needs_background": "light"
     },
     "output_type": "display_data"
    }
   ],
   "source": [
    "plt.plot(t1,f.x[0,:])\n"
   ]
  },
  {
   "cell_type": "code",
   "execution_count": null,
   "metadata": {},
   "outputs": [],
   "source": []
  },
  {
   "cell_type": "code",
   "execution_count": null,
   "metadata": {},
   "outputs": [],
   "source": []
  }
 ],
 "metadata": {
  "kernelspec": {
   "display_name": "Python 3",
   "language": "python",
   "name": "python3"
  },
  "language_info": {
   "codemirror_mode": {
    "name": "ipython",
    "version": 3
   },
   "file_extension": ".py",
   "mimetype": "text/x-python",
   "name": "python",
   "nbconvert_exporter": "python",
   "pygments_lexer": "ipython3",
   "version": "3.8.3"
  }
 },
 "nbformat": 4,
 "nbformat_minor": 4
}
