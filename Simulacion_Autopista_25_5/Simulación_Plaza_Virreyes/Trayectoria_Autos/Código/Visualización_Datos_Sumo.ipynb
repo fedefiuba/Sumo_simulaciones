{
 "cells": [
  {
   "cell_type": "code",
   "execution_count": 1,
   "metadata": {},
   "outputs": [],
   "source": [
    "import pandas as pd\n",
    "import numpy as np\n",
    "import matplotlib.pylab as plt"
   ]
  },
  {
   "cell_type": "code",
   "execution_count": 2,
   "metadata": {},
   "outputs": [],
   "source": [
    "df1 = pd.read_csv('datos_veh32.csv',sep=';' )\n",
    "df2 = pd.read_csv('datos_veh33.csv',sep=';' )"
   ]
  },
  {
   "cell_type": "code",
   "execution_count": 3,
   "metadata": {},
   "outputs": [
    {
     "data": {
      "text/html": [
       "<div>\n",
       "<style scoped>\n",
       "    .dataframe tbody tr th:only-of-type {\n",
       "        vertical-align: middle;\n",
       "    }\n",
       "\n",
       "    .dataframe tbody tr th {\n",
       "        vertical-align: top;\n",
       "    }\n",
       "\n",
       "    .dataframe thead th {\n",
       "        text-align: right;\n",
       "    }\n",
       "</style>\n",
       "<table border=\"1\" class=\"dataframe\">\n",
       "  <thead>\n",
       "    <tr style=\"text-align: right;\">\n",
       "      <th></th>\n",
       "      <th>timestep_time</th>\n",
       "      <th>vehicle_angle</th>\n",
       "      <th>vehicle_id</th>\n",
       "      <th>vehicle_lane</th>\n",
       "      <th>vehicle_pos</th>\n",
       "      <th>vehicle_slope</th>\n",
       "      <th>vehicle_speed</th>\n",
       "      <th>vehicle_type</th>\n",
       "      <th>vehicle_x</th>\n",
       "      <th>vehicle_y</th>\n",
       "    </tr>\n",
       "  </thead>\n",
       "  <tbody>\n",
       "    <tr>\n",
       "      <th>0</th>\n",
       "      <td>0.0</td>\n",
       "      <td>NaN</td>\n",
       "      <td>NaN</td>\n",
       "      <td>NaN</td>\n",
       "      <td>NaN</td>\n",
       "      <td>NaN</td>\n",
       "      <td>NaN</td>\n",
       "      <td>NaN</td>\n",
       "      <td>NaN</td>\n",
       "      <td>NaN</td>\n",
       "    </tr>\n",
       "    <tr>\n",
       "      <th>1</th>\n",
       "      <td>1.0</td>\n",
       "      <td>NaN</td>\n",
       "      <td>NaN</td>\n",
       "      <td>NaN</td>\n",
       "      <td>NaN</td>\n",
       "      <td>NaN</td>\n",
       "      <td>NaN</td>\n",
       "      <td>NaN</td>\n",
       "      <td>NaN</td>\n",
       "      <td>NaN</td>\n",
       "    </tr>\n",
       "    <tr>\n",
       "      <th>2</th>\n",
       "      <td>2.0</td>\n",
       "      <td>NaN</td>\n",
       "      <td>NaN</td>\n",
       "      <td>NaN</td>\n",
       "      <td>NaN</td>\n",
       "      <td>NaN</td>\n",
       "      <td>NaN</td>\n",
       "      <td>NaN</td>\n",
       "      <td>NaN</td>\n",
       "      <td>NaN</td>\n",
       "    </tr>\n",
       "    <tr>\n",
       "      <th>3</th>\n",
       "      <td>3.0</td>\n",
       "      <td>NaN</td>\n",
       "      <td>NaN</td>\n",
       "      <td>NaN</td>\n",
       "      <td>NaN</td>\n",
       "      <td>NaN</td>\n",
       "      <td>NaN</td>\n",
       "      <td>NaN</td>\n",
       "      <td>NaN</td>\n",
       "      <td>NaN</td>\n",
       "    </tr>\n",
       "    <tr>\n",
       "      <th>4</th>\n",
       "      <td>4.0</td>\n",
       "      <td>NaN</td>\n",
       "      <td>NaN</td>\n",
       "      <td>NaN</td>\n",
       "      <td>NaN</td>\n",
       "      <td>NaN</td>\n",
       "      <td>NaN</td>\n",
       "      <td>NaN</td>\n",
       "      <td>NaN</td>\n",
       "      <td>NaN</td>\n",
       "    </tr>\n",
       "    <tr>\n",
       "      <th>5</th>\n",
       "      <td>5.0</td>\n",
       "      <td>NaN</td>\n",
       "      <td>NaN</td>\n",
       "      <td>NaN</td>\n",
       "      <td>NaN</td>\n",
       "      <td>NaN</td>\n",
       "      <td>NaN</td>\n",
       "      <td>NaN</td>\n",
       "      <td>NaN</td>\n",
       "      <td>NaN</td>\n",
       "    </tr>\n",
       "    <tr>\n",
       "      <th>6</th>\n",
       "      <td>6.0</td>\n",
       "      <td>NaN</td>\n",
       "      <td>NaN</td>\n",
       "      <td>NaN</td>\n",
       "      <td>NaN</td>\n",
       "      <td>NaN</td>\n",
       "      <td>NaN</td>\n",
       "      <td>NaN</td>\n",
       "      <td>NaN</td>\n",
       "      <td>NaN</td>\n",
       "    </tr>\n",
       "    <tr>\n",
       "      <th>7</th>\n",
       "      <td>7.0</td>\n",
       "      <td>NaN</td>\n",
       "      <td>NaN</td>\n",
       "      <td>NaN</td>\n",
       "      <td>NaN</td>\n",
       "      <td>NaN</td>\n",
       "      <td>NaN</td>\n",
       "      <td>NaN</td>\n",
       "      <td>NaN</td>\n",
       "      <td>NaN</td>\n",
       "    </tr>\n",
       "    <tr>\n",
       "      <th>8</th>\n",
       "      <td>8.0</td>\n",
       "      <td>NaN</td>\n",
       "      <td>NaN</td>\n",
       "      <td>NaN</td>\n",
       "      <td>NaN</td>\n",
       "      <td>NaN</td>\n",
       "      <td>NaN</td>\n",
       "      <td>NaN</td>\n",
       "      <td>NaN</td>\n",
       "      <td>NaN</td>\n",
       "    </tr>\n",
       "    <tr>\n",
       "      <th>9</th>\n",
       "      <td>9.0</td>\n",
       "      <td>NaN</td>\n",
       "      <td>NaN</td>\n",
       "      <td>NaN</td>\n",
       "      <td>NaN</td>\n",
       "      <td>NaN</td>\n",
       "      <td>NaN</td>\n",
       "      <td>NaN</td>\n",
       "      <td>NaN</td>\n",
       "      <td>NaN</td>\n",
       "    </tr>\n",
       "  </tbody>\n",
       "</table>\n",
       "</div>"
      ],
      "text/plain": [
       "   timestep_time  vehicle_angle vehicle_id vehicle_lane  vehicle_pos  \\\n",
       "0            0.0            NaN        NaN          NaN          NaN   \n",
       "1            1.0            NaN        NaN          NaN          NaN   \n",
       "2            2.0            NaN        NaN          NaN          NaN   \n",
       "3            3.0            NaN        NaN          NaN          NaN   \n",
       "4            4.0            NaN        NaN          NaN          NaN   \n",
       "5            5.0            NaN        NaN          NaN          NaN   \n",
       "6            6.0            NaN        NaN          NaN          NaN   \n",
       "7            7.0            NaN        NaN          NaN          NaN   \n",
       "8            8.0            NaN        NaN          NaN          NaN   \n",
       "9            9.0            NaN        NaN          NaN          NaN   \n",
       "\n",
       "   vehicle_slope  vehicle_speed vehicle_type  vehicle_x  vehicle_y  \n",
       "0            NaN            NaN          NaN        NaN        NaN  \n",
       "1            NaN            NaN          NaN        NaN        NaN  \n",
       "2            NaN            NaN          NaN        NaN        NaN  \n",
       "3            NaN            NaN          NaN        NaN        NaN  \n",
       "4            NaN            NaN          NaN        NaN        NaN  \n",
       "5            NaN            NaN          NaN        NaN        NaN  \n",
       "6            NaN            NaN          NaN        NaN        NaN  \n",
       "7            NaN            NaN          NaN        NaN        NaN  \n",
       "8            NaN            NaN          NaN        NaN        NaN  \n",
       "9            NaN            NaN          NaN        NaN        NaN  "
      ]
     },
     "execution_count": 3,
     "metadata": {},
     "output_type": "execute_result"
    }
   ],
   "source": [
    "df1.head(10)"
   ]
  },
  {
   "cell_type": "code",
   "execution_count": 4,
   "metadata": {},
   "outputs": [],
   "source": [
    "#X1 = np.array(df1[[\"timestep_time\", \"vehicle_pos\"]])\n",
    "#X2 = np.array(df2[[\"timestep_time\", \"vehicle_pos\"]])"
   ]
  },
  {
   "cell_type": "code",
   "execution_count": 5,
   "metadata": {},
   "outputs": [],
   "source": [
    "#plt.plot(X1[:, 0], X1[:, 1])\n",
    "#plt.title('Distancia vs tiempo') \n",
    "#plt.xlabel('Tiempo')\n",
    "#plt.ylabel('Distancia')\n",
    "#plt.grid()"
   ]
  },
  {
   "cell_type": "code",
   "execution_count": 6,
   "metadata": {},
   "outputs": [],
   "source": [
    "#plt.plot(X2[:, 0], X2[:, 1])\n",
    "#plt.title('Distancia vs tiempo') \n",
    "#plt.xlabel('Tiempo')\n",
    "#plt.ylabel('Distancia')\n",
    "#plt.grid()"
   ]
  },
  {
   "cell_type": "code",
   "execution_count": 7,
   "metadata": {},
   "outputs": [],
   "source": [
    "X1 = np.array(df1[[\"vehicle_x\", \"vehicle_y\"]]) #Veh32\n",
    "X2 = np.array(df2[[\"vehicle_x\", \"vehicle_y\"]]) #Veh33"
   ]
  },
  {
   "cell_type": "code",
   "execution_count": 8,
   "metadata": {},
   "outputs": [
    {
     "data": {
      "text/plain": [
       "array([ 454.15, 2421.36])"
      ]
     },
     "execution_count": 8,
     "metadata": {},
     "output_type": "execute_result"
    }
   ],
   "source": [
    "X1[148]"
   ]
  },
  {
   "cell_type": "code",
   "execution_count": 9,
   "metadata": {},
   "outputs": [
    {
     "data": {
      "text/plain": [
       "4295"
      ]
     },
     "execution_count": 9,
     "metadata": {},
     "output_type": "execute_result"
    }
   ],
   "source": [
    "len(X1[148:, 0])"
   ]
  },
  {
   "cell_type": "code",
   "execution_count": 10,
   "metadata": {},
   "outputs": [
    {
     "data": {
      "text/plain": [
       "Text(370, 2400, 'Plaza de los Virreyes')"
      ]
     },
     "execution_count": 10,
     "metadata": {},
     "output_type": "execute_result"
    },
    {
     "data": {
      "image/png": "[encoded data removed]",
      "text/plain": [
       "<Figure size 432x288 with 1 Axes>"
      ]
     },
     "metadata": {
      "needs_background": "light"
     },
     "output_type": "display_data"
    }
   ],
   "source": [
    "plt.plot(X1[148:, 0], X1[148:, 1],X2[152:, 0], X2[152:, 1],'k')\n",
    "plt.title('Plano X,Y') \n",
    "plt.xlabel('X')\n",
    "plt.ylabel('Y')\n",
    "plt.grid()\n",
    "plt.text(395.05,2213.62,r\"P1\")\n",
    "plt.text(250,2050,r\"Perito Moreno\")\n",
    "plt.text(405.07,2211.81,r\"P2\")\n",
    "plt.text(300,1940,r\"Dellepiane\")\n",
    "plt.text(370,2400,r\"Plaza de los Virreyes\")"
   ]
  },
  {
   "cell_type": "markdown",
   "metadata": {},
   "source": [
    "### Distancia en función del tiempo"
   ]
  },
  {
   "cell_type": "code",
   "execution_count": 12,
   "metadata": {},
   "outputs": [
    {
     "data": {
      "text/plain": [
       "240.98"
      ]
     },
     "execution_count": 12,
     "metadata": {},
     "output_type": "execute_result"
    }
   ],
   "source": [
    "X1[176,0]"
   ]
  },
  {
   "cell_type": "code",
   "execution_count": 70,
   "metadata": {},
   "outputs": [],
   "source": [
    "#https://hadrienj.github.io/posts/Deep-Learning-Book-Series-2.5-Norms/\n",
    "#Calculo la distancia desde el origen al móvil. Vendría a ser la curva azul (Veh32) del gráfico anterior, o sea,\n",
    "#la trayectoria del Veh32\n",
    "\n",
    "distancias_movil_1=[] # Veh32\n",
    "\n",
    "for n in range(151,177):\n",
    "     distancias_movil_1.append (np.linalg.norm([X1[n,0], X1[n,1]])) # Norma de un vector"
   ]
  },
  {
   "cell_type": "code",
   "execution_count": 71,
   "metadata": {},
   "outputs": [],
   "source": [
    "#Calculo la distancia desde el origen al móvil. Vendría a ser la curva azul (Veh33) del gráfico anterior, o sea,\n",
    "#la trayectoria del Veh33\n",
    "\n",
    "distancias_movil_2=[] # Veh33\n",
    "\n",
    "for n in range(151,177):\n",
    "     distancias_movil_2.append (np.linalg.norm([X2[n,0], X2[n,1]])) # Norma de un vector"
   ]
  },
  {
   "cell_type": "code",
   "execution_count": 72,
   "metadata": {},
   "outputs": [
    {
     "data": {
      "image/png": "[encoded data removed]",
      "text/plain": [
       "<Figure size 432x288 with 1 Axes>"
      ]
     },
     "metadata": {
      "needs_background": "light"
     },
     "output_type": "display_data"
    }
   ],
   "source": [
    "#Grafico Posición en función del tiempo\n",
    "t=np.arange(0,len(distancias_movil_1),1)\n",
    "\n",
    "plt.plot(t, distancias_movil_1, distancias_movil_2)\n",
    "plt.title('Posición en función del tiempo') \n",
    "plt.xlabel('tiempo (s)')\n",
    "plt.ylabel('Posicion')\n",
    "plt.grid()"
   ]
  },
  {
   "cell_type": "code",
   "execution_count": 73,
   "metadata": {},
   "outputs": [],
   "source": [
    "#Calculo la distancia entre los móviles. Para esto, resto cada coordenda de cda vector y calculo su norma\n",
    "\n",
    "distancia_entre_autos = []\n",
    "\n",
    "for n in range(151,177):\n",
    "        distancia_entre_autos.append (np.linalg.norm([X1[n,0]-X2[n,0], X1[n,1]-X2[n,1]])) # Norma de un vector"
   ]
  },
  {
   "cell_type": "code",
   "execution_count": 74,
   "metadata": {},
   "outputs": [
    {
     "data": {
      "image/png": "[encoded data removed]",
      "text/plain": [
       "<Figure size 432x288 with 1 Axes>"
      ]
     },
     "metadata": {
      "needs_background": "light"
     },
     "output_type": "display_data"
    }
   ],
   "source": [
    "#Grafico las distancias entre los autos\n",
    "t=np.arange(0,len(distancia_entre_autos),1)\n",
    "\n",
    "plt.plot(t, distancia_entre_autos)\n",
    "plt.title('Posición en función del tiempo') \n",
    "plt.xlabel('tiempo (s)')\n",
    "plt.ylabel('Posicion')\n",
    "plt.grid()"
   ]
  },
  {
   "cell_type": "markdown",
   "metadata": {},
   "source": [
    "### Velocidades"
   ]
  },
  {
   "cell_type": "code",
   "execution_count": 12,
   "metadata": {},
   "outputs": [],
   "source": [
    "V1 = np.array(df1[[\"timestep_time\", \"vehicle_speed\"]]) #Velocidad veh32\n",
    "V2 = np.array(df2[[\"timestep_time\", \"vehicle_speed\"]]) #Velocidad veh33"
   ]
  },
  {
   "cell_type": "code",
   "execution_count": 73,
   "metadata": {},
   "outputs": [
    {
     "data": {
      "text/plain": [
       "Text(162, 21.57, 'P2')"
      ]
     },
     "execution_count": 73,
     "metadata": {},
     "output_type": "execute_result"
    },
    {
     "data": {
      "image/png": "[encoded data removed]",
      "text/plain": [
       "<Figure size 432x288 with 1 Axes>"
      ]
     },
     "metadata": {
      "needs_background": "light"
     },
     "output_type": "display_data"
    }
   ],
   "source": [
    "plt.plot(V1[148:, 0], V1[148:, 1],V2[152:, 0], V2[152:, 1],'k')\n",
    "plt.title('Velocidad en función del tiempo') \n",
    "plt.xlabel('tiempo (s)')\n",
    "plt.ylabel('Velocidad')\n",
    "plt.grid()\n",
    "plt.text(158,18.54,r\"P1\")\n",
    "plt.text(162,21.57,r\"P2\")"
   ]
  },
  {
   "cell_type": "code",
   "execution_count": null,
   "metadata": {},
   "outputs": [],
   "source": []
  }
 ],
 "metadata": {
  "kernelspec": {
   "display_name": "Python 3",
   "language": "python",
   "name": "python3"
  },
  "language_info": {
   "codemirror_mode": {
    "name": "ipython",
    "version": 3
   },
   "file_extension": ".py",
   "mimetype": "text/x-python",
   "name": "python",
   "nbconvert_exporter": "python",
   "pygments_lexer": "ipython3",
   "version": "3.8.3"
  }
 },
 "nbformat": 4,
 "nbformat_minor": 4
}
