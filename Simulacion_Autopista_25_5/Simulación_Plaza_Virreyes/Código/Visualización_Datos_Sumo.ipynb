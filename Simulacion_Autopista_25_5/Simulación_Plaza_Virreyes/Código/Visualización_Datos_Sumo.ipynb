{
 "cells": [
  {
   "cell_type": "code",
   "execution_count": 1,
   "metadata": {},
   "outputs": [],
   "source": [
    "import pandas as pd\n",
    "import numpy as np"
   ]
  },
  {
   "cell_type": "code",
   "execution_count": 2,
   "metadata": {},
   "outputs": [],
   "source": [
    "df = pd.read_csv('datos_vehic.csv',sep=';' )"
   ]
  },
  {
   "cell_type": "code",
   "execution_count": 3,
   "metadata": {},
   "outputs": [
    {
     "data": {
      "text/html": [
       "<div>\n",
       "<style scoped>\n",
       "    .dataframe tbody tr th:only-of-type {\n",
       "        vertical-align: middle;\n",
       "    }\n",
       "\n",
       "    .dataframe tbody tr th {\n",
       "        vertical-align: top;\n",
       "    }\n",
       "\n",
       "    .dataframe thead th {\n",
       "        text-align: right;\n",
       "    }\n",
       "</style>\n",
       "<table border=\"1\" class=\"dataframe\">\n",
       "  <thead>\n",
       "    <tr style=\"text-align: right;\">\n",
       "      <th></th>\n",
       "      <th>timestep_time</th>\n",
       "      <th>vehicle_angle</th>\n",
       "      <th>vehicle_id</th>\n",
       "      <th>vehicle_lane</th>\n",
       "      <th>vehicle_pos</th>\n",
       "      <th>vehicle_slope</th>\n",
       "      <th>vehicle_speed</th>\n",
       "      <th>vehicle_type</th>\n",
       "      <th>vehicle_x</th>\n",
       "      <th>vehicle_y</th>\n",
       "    </tr>\n",
       "  </thead>\n",
       "  <tbody>\n",
       "    <tr>\n",
       "      <th>0</th>\n",
       "      <td>0.0</td>\n",
       "      <td>134.56</td>\n",
       "      <td>veh0</td>\n",
       "      <td>451111999#0_0</td>\n",
       "      <td>5.10</td>\n",
       "      <td>0.0</td>\n",
       "      <td>11.78</td>\n",
       "      <td>veh_passenger</td>\n",
       "      <td>3.63</td>\n",
       "      <td>2813.92</td>\n",
       "    </tr>\n",
       "    <tr>\n",
       "      <th>1</th>\n",
       "      <td>1.0</td>\n",
       "      <td>134.56</td>\n",
       "      <td>veh0</td>\n",
       "      <td>451111999#0_0</td>\n",
       "      <td>16.00</td>\n",
       "      <td>0.0</td>\n",
       "      <td>10.90</td>\n",
       "      <td>veh_passenger</td>\n",
       "      <td>11.40</td>\n",
       "      <td>2806.27</td>\n",
       "    </tr>\n",
       "    <tr>\n",
       "      <th>2</th>\n",
       "      <td>2.0</td>\n",
       "      <td>134.56</td>\n",
       "      <td>veh0</td>\n",
       "      <td>451111999#0_0</td>\n",
       "      <td>26.68</td>\n",
       "      <td>0.0</td>\n",
       "      <td>10.68</td>\n",
       "      <td>veh_passenger</td>\n",
       "      <td>19.01</td>\n",
       "      <td>2798.78</td>\n",
       "    </tr>\n",
       "    <tr>\n",
       "      <th>3</th>\n",
       "      <td>3.0</td>\n",
       "      <td>134.56</td>\n",
       "      <td>veh0</td>\n",
       "      <td>451111999#0_0</td>\n",
       "      <td>38.45</td>\n",
       "      <td>0.0</td>\n",
       "      <td>11.77</td>\n",
       "      <td>veh_passenger</td>\n",
       "      <td>27.40</td>\n",
       "      <td>2790.52</td>\n",
       "    </tr>\n",
       "    <tr>\n",
       "      <th>4</th>\n",
       "      <td>4.0</td>\n",
       "      <td>134.56</td>\n",
       "      <td>veh0</td>\n",
       "      <td>451111999#0_0</td>\n",
       "      <td>50.02</td>\n",
       "      <td>0.0</td>\n",
       "      <td>11.57</td>\n",
       "      <td>veh_passenger</td>\n",
       "      <td>35.64</td>\n",
       "      <td>2782.40</td>\n",
       "    </tr>\n",
       "    <tr>\n",
       "      <th>5</th>\n",
       "      <td>5.0</td>\n",
       "      <td>134.56</td>\n",
       "      <td>veh0</td>\n",
       "      <td>451111999#0_0</td>\n",
       "      <td>61.49</td>\n",
       "      <td>0.0</td>\n",
       "      <td>11.47</td>\n",
       "      <td>veh_passenger</td>\n",
       "      <td>43.81</td>\n",
       "      <td>2774.35</td>\n",
       "    </tr>\n",
       "    <tr>\n",
       "      <th>6</th>\n",
       "      <td>6.0</td>\n",
       "      <td>134.56</td>\n",
       "      <td>veh0</td>\n",
       "      <td>451111999#0_0</td>\n",
       "      <td>73.08</td>\n",
       "      <td>0.0</td>\n",
       "      <td>11.59</td>\n",
       "      <td>veh_passenger</td>\n",
       "      <td>52.07</td>\n",
       "      <td>2766.22</td>\n",
       "    </tr>\n",
       "    <tr>\n",
       "      <th>7</th>\n",
       "      <td>7.0</td>\n",
       "      <td>134.82</td>\n",
       "      <td>veh0</td>\n",
       "      <td>451111999#0_0</td>\n",
       "      <td>84.30</td>\n",
       "      <td>0.0</td>\n",
       "      <td>11.22</td>\n",
       "      <td>veh_passenger</td>\n",
       "      <td>60.03</td>\n",
       "      <td>2758.31</td>\n",
       "    </tr>\n",
       "    <tr>\n",
       "      <th>8</th>\n",
       "      <td>8.0</td>\n",
       "      <td>134.82</td>\n",
       "      <td>veh0</td>\n",
       "      <td>451111999#0_0</td>\n",
       "      <td>95.44</td>\n",
       "      <td>0.0</td>\n",
       "      <td>11.14</td>\n",
       "      <td>veh_passenger</td>\n",
       "      <td>67.93</td>\n",
       "      <td>2750.46</td>\n",
       "    </tr>\n",
       "    <tr>\n",
       "      <th>9</th>\n",
       "      <td>9.0</td>\n",
       "      <td>134.82</td>\n",
       "      <td>veh0</td>\n",
       "      <td>451111999#0_0</td>\n",
       "      <td>106.65</td>\n",
       "      <td>0.0</td>\n",
       "      <td>11.21</td>\n",
       "      <td>veh_passenger</td>\n",
       "      <td>75.89</td>\n",
       "      <td>2742.56</td>\n",
       "    </tr>\n",
       "  </tbody>\n",
       "</table>\n",
       "</div>"
      ],
      "text/plain": [
       "   timestep_time  vehicle_angle vehicle_id   vehicle_lane  vehicle_pos  \\\n",
       "0            0.0         134.56       veh0  451111999#0_0         5.10   \n",
       "1            1.0         134.56       veh0  451111999#0_0        16.00   \n",
       "2            2.0         134.56       veh0  451111999#0_0        26.68   \n",
       "3            3.0         134.56       veh0  451111999#0_0        38.45   \n",
       "4            4.0         134.56       veh0  451111999#0_0        50.02   \n",
       "5            5.0         134.56       veh0  451111999#0_0        61.49   \n",
       "6            6.0         134.56       veh0  451111999#0_0        73.08   \n",
       "7            7.0         134.82       veh0  451111999#0_0        84.30   \n",
       "8            8.0         134.82       veh0  451111999#0_0        95.44   \n",
       "9            9.0         134.82       veh0  451111999#0_0       106.65   \n",
       "\n",
       "   vehicle_slope  vehicle_speed   vehicle_type  vehicle_x  vehicle_y  \n",
       "0            0.0          11.78  veh_passenger       3.63    2813.92  \n",
       "1            0.0          10.90  veh_passenger      11.40    2806.27  \n",
       "2            0.0          10.68  veh_passenger      19.01    2798.78  \n",
       "3            0.0          11.77  veh_passenger      27.40    2790.52  \n",
       "4            0.0          11.57  veh_passenger      35.64    2782.40  \n",
       "5            0.0          11.47  veh_passenger      43.81    2774.35  \n",
       "6            0.0          11.59  veh_passenger      52.07    2766.22  \n",
       "7            0.0          11.22  veh_passenger      60.03    2758.31  \n",
       "8            0.0          11.14  veh_passenger      67.93    2750.46  \n",
       "9            0.0          11.21  veh_passenger      75.89    2742.56  "
      ]
     },
     "execution_count": 3,
     "metadata": {},
     "output_type": "execute_result"
    }
   ],
   "source": [
    "df.head(10)"
   ]
  },
  {
   "cell_type": "code",
   "execution_count": 4,
   "metadata": {},
   "outputs": [],
   "source": [
    "#Selecciono los que vienen de Plaza de Virreyes. Esta autopista tiene seis carriles:\n",
    "#325213134_0, 325213134_1, 325213134_2, 325213134_3, 325213134_4, 325213134_5 (izqiuerda a derecha)\n",
    "\n",
    "Plaza_Vi_0 = df.loc[df['vehicle_lane'] == '325213134_0']\n",
    "Plaza_Vi_1 = df.loc[df['vehicle_lane'] == '325213134_1']\n",
    "Plaza_Vi_2 = df.loc[df['vehicle_lane'] == '325213134_2']\n",
    "Plaza_Vi_3 = df.loc[df['vehicle_lane'] == '325213134_3']\n",
    "Plaza_Vi_4 = df.loc[df['vehicle_lane'] == '325213134_4']\n",
    "Plaza_Vi_5 = df.loc[df['vehicle_lane'] == '325213134_5']"
   ]
  },
  {
   "cell_type": "code",
   "execution_count": 5,
   "metadata": {},
   "outputs": [
    {
     "name": "stdout",
     "output_type": "stream",
     "text": [
      "860\n",
      "0\n",
      "0\n",
      "920\n",
      "0\n",
      "0\n"
     ]
    }
   ],
   "source": [
    "print(Plaza_Vi_0.size)\n",
    "print(Plaza_Vi_1.size)\n",
    "print(Plaza_Vi_2.size)\n",
    "print(Plaza_Vi_3.size)\n",
    "print(Plaza_Vi_4.size)\n",
    "print(Plaza_Vi_5.size)"
   ]
  },
  {
   "cell_type": "code",
   "execution_count": 6,
   "metadata": {},
   "outputs": [],
   "source": [
    "#Selecciono los que van para la Au.Perito Moreno. Esta autopista tiene tres carriles:\n",
    "PM_0 = df.loc[df['vehicle_lane'] == '18908030_0']\n",
    "PM_1 = df.loc[df['vehicle_lane'] == '18908030_1']\n",
    "PM_2 = df.loc[df['vehicle_lane'] == '18908030_2']"
   ]
  },
  {
   "cell_type": "code",
   "execution_count": 7,
   "metadata": {},
   "outputs": [
    {
     "name": "stdout",
     "output_type": "stream",
     "text": [
      "1430\n",
      "0\n",
      "0\n"
     ]
    }
   ],
   "source": [
    "print(PM_0.size)\n",
    "print(PM_1.size)\n",
    "print(PM_2.size)"
   ]
  },
  {
   "cell_type": "code",
   "execution_count": 8,
   "metadata": {},
   "outputs": [],
   "source": [
    "#PM_0.head(100)"
   ]
  },
  {
   "cell_type": "code",
   "execution_count": 9,
   "metadata": {},
   "outputs": [],
   "source": [
    "#Selecciono los que van para la Au.Dellepiane. Esta autopista tiene dos carriles:\n",
    "Delle_0 = df.loc[df['vehicle_lane'] == '39910457_0']\n",
    "Delle_1 = df.loc[df['vehicle_lane'] == '39910457_1']"
   ]
  },
  {
   "cell_type": "code",
   "execution_count": 10,
   "metadata": {},
   "outputs": [
    {
     "name": "stdout",
     "output_type": "stream",
     "text": [
      "470\n",
      "0\n"
     ]
    }
   ],
   "source": [
    "print(Delle_0.size)\n",
    "print(Delle_1.size)"
   ]
  },
  {
   "cell_type": "code",
   "execution_count": 27,
   "metadata": {},
   "outputs": [],
   "source": [
    "#Selecciono aquellos móviles que vienen de Plaza de los Virreyes y que toman la PM para llegar al PPM. \n",
    "#Para esto me fijo cuántos autos de los que vienen por el carril 0 y 3 de la 25 de Mayo, y se van por el carril 0\n",
    "#de la Au. PM hacia el PPM\n",
    "\n",
    "#Autos que vienen por el carril 0 de la Au.25 de Mayo (que vienen de Plaza de los Virreyes) y se van por el \n",
    "#carril 0 de la PM\n",
    "PPM_00 = df.loc[(df['vehicle_lane'] == '325213134_0') | (df['vehicle_lane'] == '18908030_0') ]\n",
    "\n",
    "#Autos que vienen por el carril 3 de la Au.25 de Mayo (que vienen de Plaza de los Virreyes) y se van por el \n",
    "#carril 0 de la PM\n",
    "PPM_30 = df.loc[(df['vehicle_lane'] == '325213134_3') | (df['vehicle_lane'] == '18908030_0') ]\n",
    "\n",
    "#Guardo estos datos en un .csv\n",
    "PPM_00.to_csv(r'PPM_00.csv')\n",
    "PPM_30.to_csv(r'PPM_03.csv')\n"
   ]
  },
  {
   "cell_type": "code",
   "execution_count": 28,
   "metadata": {},
   "outputs": [
    {
     "name": "stdout",
     "output_type": "stream",
     "text": [
      "2290\n",
      "2350\n"
     ]
    }
   ],
   "source": [
    "print(PPM_00.size)\n",
    "print(PPM_30.size)"
   ]
  },
  {
   "cell_type": "code",
   "execution_count": 30,
   "metadata": {},
   "outputs": [],
   "source": [
    "#PPM_30.head(800)"
   ]
  },
  {
   "cell_type": "code",
   "execution_count": 33,
   "metadata": {},
   "outputs": [],
   "source": [
    "#Selecciono aquellos móviles que vienen de Plaza de los Virreyes y que toman la Dellepiane para llegar al PPM. \n",
    "#Para esto me fijo cuántos autos de los que vienen por el carril 0 y 3 de la 25 de Mayo, y se van por el carril 0\n",
    "#de la Dellepiane\n",
    "\n",
    "#Autos que vienen por el carril 0 de la Au.25 de Mayo (que vienen de Plaza de los Virreyes) y se van por el \n",
    "#carril 0 de la PM\n",
    "Delle_00 = df.loc[(df['vehicle_lane'] == '325213134_0') | (df['vehicle_lane'] == '39910457_0') ]\n",
    "\n",
    "#Autos que vienen por el carril 3 de la Au.25 de Mayo (que vienen de Plaza de los Virreyes) y se van por el \n",
    "#carril 0 de la PM\n",
    "Delle_30 = df.loc[(df['vehicle_lane'] == '325213134_3') | (df['vehicle_lane'] == '39910457_0') ]\n",
    "\n",
    "#Guardo estos datos en un .csv\n",
    "Delle_00.to_csv(r'Delle_00.csv')\n",
    "Delle_30.to_csv(r'Delle_30.csv')"
   ]
  },
  {
   "cell_type": "code",
   "execution_count": 34,
   "metadata": {},
   "outputs": [
    {
     "name": "stdout",
     "output_type": "stream",
     "text": [
      "1330\n",
      "1390\n"
     ]
    }
   ],
   "source": [
    "print(Delle_00.size)\n",
    "print(Delle_30.size)"
   ]
  },
  {
   "cell_type": "code",
   "execution_count": 16,
   "metadata": {},
   "outputs": [],
   "source": [
    "#Delle_30.head(800)"
   ]
  },
  {
   "cell_type": "code",
   "execution_count": null,
   "metadata": {},
   "outputs": [],
   "source": []
  }
 ],
 "metadata": {
  "kernelspec": {
   "display_name": "Python 3",
   "language": "python",
   "name": "python3"
  },
  "language_info": {
   "codemirror_mode": {
    "name": "ipython",
    "version": 3
   },
   "file_extension": ".py",
   "mimetype": "text/x-python",
   "name": "python",
   "nbconvert_exporter": "python",
   "pygments_lexer": "ipython3",
   "version": "3.8.3"
  }
 },
 "nbformat": 4,
 "nbformat_minor": 4
}
